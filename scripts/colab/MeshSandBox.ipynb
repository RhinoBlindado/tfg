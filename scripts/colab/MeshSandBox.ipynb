{
  "nbformat": 4,
  "nbformat_minor": 0,
  "metadata": {
    "colab": {
      "provenance": [],
      "collapsed_sections": [
        "Ackrq_3ewXEu",
        "97ArRrQJ5Nll",
        "GO7N8W285I2P"
      ]
    },
    "kernelspec": {
      "name": "python3",
      "display_name": "Python 3"
    },
    "language_info": {
      "name": "python"
    },
    "accelerator": "GPU"
  },
  "cells": [
    {
      "cell_type": "markdown",
      "source": [
        "# Preparando el ambiente"
      ],
      "metadata": {
        "id": "G40-gkbv4YLv"
      }
    },
    {
      "cell_type": "markdown",
      "source": [
        "## Conectando a drive"
      ],
      "metadata": {
        "id": "zRBu_hCA6jqX"
      }
    },
    {
      "cell_type": "code",
      "source": [
        "from google.colab import drive\n",
        "import os\n",
        "drive.mount('/content/drive')\n",
        "\n",
        "# Hacer la ruta para las redes\n",
        "%mkdir ./networks\n",
        "\n",
        "# Hacer la ruta para los datasets\n",
        "%mkdir -p data/datasets"
      ],
      "metadata": {
        "colab": {
          "base_uri": "https://localhost:8080/"
        },
        "id": "KQ8Dx6j-AkaG",
        "outputId": "9439dc35-847e-4356-cba7-f0e02ca542e4"
      },
      "execution_count": null,
      "outputs": [
        {
          "output_type": "stream",
          "name": "stdout",
          "text": [
            "Mounted at /content/drive\n"
          ]
        }
      ]
    },
    {
      "cell_type": "markdown",
      "source": [
        "# Funciones auxiliares de Colab"
      ],
      "metadata": {
        "id": "EKlfNK73KexQ"
      }
    },
    {
      "cell_type": "code",
      "source": [
        "def loadNetwork(net):\n",
        "  pathDrive = \"/content/drive/MyDrive/TFG/networks/\" + net + \".zip\"\n",
        "  out = os.system(\"unzip -o {} -d /content/networks/\".format(pathDrive))\n",
        "  if(out != 0):\n",
        "    print(\"Error al descomprimir red.\")\n",
        "  else:\n",
        "    print(\"Red {} cargada.\".format(net))\n",
        "\n",
        "def loadDataset(dataset):\n",
        "  pathData = \"/content/drive/MyDrive/TFG/datasets/\" + dataset + \".zip\"\n",
        "  out = os.system(\"unzip -o {} -d /content/data/datasets/\".format(pathData))\n",
        "  if(out != 0):\n",
        "    print(\"Error al descomprimir datos.\")\n",
        "  else:\n",
        "    print(\"Datos {} cargada.\".format(dataset))\n",
        "\n",
        "def unloadDataset(dataset):\n",
        "  out = os.system(\"rm -rf /content/data/datasets/{}\".format(dataset))\n",
        "  if(out != 0):\n",
        "    print(\"Error al borrar datos.\")\n",
        "  else:\n",
        "    print(\"Datos {} borrados.\".format(dataset))\n",
        "\n",
        "def unloadNetwork(network):\n",
        "  out = os.system(\"rm -rf /content/networks/{}\".format(network))\n",
        "  if(out != 0):\n",
        "    print(\"Error al borrar red.\")\n",
        "  else:\n",
        "    print(\"Red {} borrada.\".format(network))\n",
        "\n",
        "def saveResults(dataset):\n",
        "  baseData = \"/content/checkpoints/\"+dataset\n",
        "  outData = \"/content/drive/MyDrive/TFG/output/\"+dataset+\".zip\"\n",
        "  out = os.system(\"zip -r {} {}\".format(outData, baseData))\n",
        "\n",
        "  if(out !=0):\n",
        "    print(\"Error al comprimir los datos {}\".format(dataset))\n",
        "  else:\n",
        "    print(\"Datos {} comprimidos correctamente\".format(dataset))\n",
        "\n",
        "\n",
        "def restoreResults(dataset):\n",
        "    outData = \"/content/drive/MyDrive/TFG/output/\"+dataset+\".zip\"\n",
        "    out = os.system(\"unzip -o {} -d /\".format(outData))\n",
        "\n",
        "    if(out !=0):\n",
        "      print(\"Error al descomprimir los datos {}\".format(dataset))\n",
        "    else:\n",
        "      print(\"Datos {} descomprimidos correctamente\".format(dataset))\n"
      ],
      "metadata": {
        "id": "NFTBP38OJvxk"
      },
      "execution_count": null,
      "outputs": []
    },
    {
      "cell_type": "markdown",
      "source": [
        "# MeshCNN"
      ],
      "metadata": {
        "id": "RM17j-eFk4iE"
      }
    },
    {
      "cell_type": "code",
      "source": [
        "network = \"MeshCNNPlus\"\n",
        "loadNetwork(network)"
      ],
      "metadata": {
        "colab": {
          "base_uri": "https://localhost:8080/"
        },
        "outputId": "28d512b6-c853-4877-9915-b64313de6082",
        "id": "QZNnuLuQiLE6"
      },
      "execution_count": null,
      "outputs": [
        {
          "output_type": "stream",
          "name": "stdout",
          "text": [
            "Red MeshCNNPlus cargada.\n"
          ]
        }
      ]
    },
    {
      "cell_type": "code",
      "source": [
        "unloadNetwork(network)"
      ],
      "metadata": {
        "colab": {
          "base_uri": "https://localhost:8080/"
        },
        "id": "NqKPhxr_jR6b",
        "outputId": "34a28049-0d5c-4735-d3ea-4d6c9f0e4737"
      },
      "execution_count": null,
      "outputs": [
        {
          "output_type": "stream",
          "name": "stdout",
          "text": [
            "Red MeshCNNPlus borrada.\n"
          ]
        }
      ]
    },
    {
      "cell_type": "markdown",
      "source": [
        "## SHREC 16"
      ],
      "metadata": {
        "id": "UFtRxZfoB9iT"
      }
    },
    {
      "cell_type": "code",
      "source": [
        "# Nombre del dataset\n",
        "dataset = \"shrec_16\"\n",
        "loadDataset(dataset)"
      ],
      "metadata": {
        "id": "RVGX8CpjCPpl",
        "colab": {
          "base_uri": "https://localhost:8080/"
        },
        "outputId": "91b52ff5-024e-4ab2-bb9e-98e24831864f"
      },
      "execution_count": null,
      "outputs": [
        {
          "output_type": "stream",
          "name": "stdout",
          "text": [
            "Datos shrec_16 cargada.\n"
          ]
        }
      ]
    },
    {
      "cell_type": "code",
      "source": [
        "!bash dummy_train.sh"
      ],
      "metadata": {
        "id": "iMkMmAQU5dJW"
      },
      "execution_count": null,
      "outputs": []
    },
    {
      "cell_type": "code",
      "source": [
        "!python ./networks/MeshCNNPlus/meshcnn/test.py \\\n",
        "--dataroot ./data/datasets/shrec_16 \\\n",
        "--name shrec16 \\\n",
        "--ncf 64 128 256 256 \\\n",
        "--pool_res 600 450 300 180 \\\n",
        "--norm group \\\n",
        "--resblocks 1 \\\n",
        "--export_folder meshes \\"
      ],
      "metadata": {
        "id": "eNKVktiAr0lz",
        "colab": {
          "base_uri": "https://localhost:8080/"
        },
        "outputId": "ed67b795-a9f2-4551-d6a6-a2252137d108"
      },
      "execution_count": null,
      "outputs": [
        {
          "output_type": "stream",
          "name": "stdout",
          "text": [
            "python3: can't open file './networks/MeshCNNPlus/meshcnn/test.py': [Errno 2] No such file or directory\n"
          ]
        }
      ]
    },
    {
      "cell_type": "code",
      "source": [
        "restoreResults(\"shrec_16\")"
      ],
      "metadata": {
        "colab": {
          "base_uri": "https://localhost:8080/"
        },
        "id": "eU6IJGjlcaCi",
        "outputId": "e4649254-5ba9-49e5-f715-579fa76976b8"
      },
      "execution_count": null,
      "outputs": [
        {
          "output_type": "stream",
          "name": "stdout",
          "text": [
            "Datos shrec_16 descomprimidos correctamente\n"
          ]
        }
      ]
    },
    {
      "cell_type": "code",
      "source": [
        "saveResults(\"shrec_16\")\n",
        "#unloadDataset(dataset)"
      ],
      "metadata": {
        "id": "vbFeNKj3ihdX",
        "colab": {
          "base_uri": "https://localhost:8080/"
        },
        "outputId": "5767cfb3-3607-4c2e-ef9f-a2d9351fb8f8"
      },
      "execution_count": null,
      "outputs": [
        {
          "output_type": "stream",
          "name": "stdout",
          "text": [
            "Datos shrec_16 comprimidos correctamente\n"
          ]
        }
      ]
    },
    {
      "cell_type": "markdown",
      "source": [
        "## Nodule-50-30K\n"
      ],
      "metadata": {
        "id": "OetlrbGviLEz"
      }
    },
    {
      "cell_type": "markdown",
      "source": [
        "#### Run 2"
      ],
      "metadata": {
        "id": "TiryLHZSw3xw"
      }
    },
    {
      "cell_type": "code",
      "source": [
        "dataset = \"Nodule-50-30K\"\n",
        "loadDataset(dataset)"
      ],
      "metadata": {
        "colab": {
          "base_uri": "https://localhost:8080/"
        },
        "id": "k3LOc-9ow-rG",
        "outputId": "589dbc7f-03f0-4c78-d8ad-b1b5992f71b2"
      },
      "execution_count": null,
      "outputs": [
        {
          "output_type": "stream",
          "name": "stdout",
          "text": [
            "Datos Nodule-50-30K cargada.\n"
          ]
        }
      ]
    },
    {
      "cell_type": "code",
      "source": [
        "!python ./networks/MeshCNNPlus/development/meshcnn/train.py \\\n",
        "--dataroot ./data/datasets/Nodule-50-30K \\\n",
        "--name Nodule-50-30K-2 \\\n",
        "--ninput_edges 30000 \\\n",
        "--ncf 16 16 32 64 \\\n",
        "--pool_res 20000 15000 8000 7500 \\\n",
        "--norm group \\\n",
        "--num_groups 1 \\\n",
        "--res_blocks 0 \\\n",
        "--fc_n 100 \\\n",
        "--flip_edges 0.2 \\\n",
        "--slide_verts 0.2 \\\n",
        "--num_aug 2 \\\n",
        "--niter 50 \\\n",
        "--niter_decay 10 \\\n",
        "--num_threads 2 \\\n",
        "--batch_size 1 \\\n",
        "--gpu_ids 0 \\\n",
        "--dropout 0 \\\n",
        "--amsgrad False \\"
      ],
      "metadata": {
        "id": "oglQaQBGw_Vp"
      },
      "execution_count": null,
      "outputs": []
    },
    {
      "cell_type": "code",
      "source": [
        "!python ./networks/MeshCNNPlus/development/meshcnn/test.py \\\n",
        "--dataroot ./data/datasets/Nodule-50-30K \\\n",
        "--name Nodule-50-30K-2 \\\n",
        "--ninput_edges 30000 \\\n",
        "--ncf 16 16 32 64 \\\n",
        "--pool_res 20000 15000 10000 5000 \\\n",
        "--fc_n 100 \\\n",
        "--norm group \\\n",
        "--num_groups 1 \\\n",
        "--batch_size 1 \\\n",
        "--num_threads 2 \\"
      ],
      "metadata": {
        "id": "ixGOqPxzxERZ"
      },
      "execution_count": null,
      "outputs": []
    },
    {
      "cell_type": "code",
      "source": [
        "saveResults(\"Nodule-50-30K-2\")"
      ],
      "metadata": {
        "id": "zJ0vaGtZxJUh"
      },
      "execution_count": null,
      "outputs": []
    },
    {
      "cell_type": "code",
      "source": [
        "restoreResults(\"Nodule-50-30K-2\")"
      ],
      "metadata": {
        "id": "6E5pUvUPxJUk",
        "colab": {
          "base_uri": "https://localhost:8080/"
        },
        "outputId": "98965eae-0d01-48af-a54e-af40f14b0ef4"
      },
      "execution_count": null,
      "outputs": [
        {
          "output_type": "stream",
          "name": "stdout",
          "text": [
            "Datos Nodule-50-30K-2 descomprimidos correctamente\n"
          ]
        }
      ]
    },
    {
      "cell_type": "code",
      "source": [
        "unloadDataset(dataset)"
      ],
      "metadata": {
        "id": "zxhVLe4oxJUl"
      },
      "execution_count": null,
      "outputs": []
    },
    {
      "cell_type": "markdown",
      "source": [
        "#### Run 6"
      ],
      "metadata": {
        "id": "Ackrq_3ewXEu"
      }
    },
    {
      "cell_type": "code",
      "source": [
        "dataset = \"Nodule-50-30K\"\n",
        "loadDataset(dataset)"
      ],
      "metadata": {
        "id": "WcDuFlpYiLE2"
      },
      "execution_count": null,
      "outputs": []
    },
    {
      "cell_type": "code",
      "source": [
        "!python ./networks/MeshCNNPlus/development/meshcnn/train.py \\\n",
        "--dataroot ./data/datasets/Nodule-50-30K \\\n",
        "--name Nodule-50-30K-6 \\\n",
        "--ninput_edges 30000 \\\n",
        "--ncf 16 16 32 32 64 \\\n",
        "--pool_res 20000 15000 13000 8000 7500 \\\n",
        "--norm batch \\\n",
        "--num_groups 1 \\\n",
        "--res_blocks 0 \\\n",
        "--fc_n 100 50 25 \\\n",
        "--flip_edges 0.2 \\\n",
        "--slide_verts 0.2 \\\n",
        "--num_aug 2 \\\n",
        "--niter 50 \\\n",
        "--niter_decay 10 \\\n",
        "--num_threads 2 \\\n",
        "--batch_size 1 \\\n",
        "--gpu_ids 0 \\\n",
        "--dropout 0 \\\n",
        "--amsgrad True \\"
      ],
      "metadata": {
        "id": "kTPrCxGwiLFB"
      },
      "execution_count": null,
      "outputs": []
    },
    {
      "cell_type": "code",
      "source": [
        "!python ./networks/MeshCNNPlus/development/meshcnn/test.py \\\n",
        "--dataroot ./data/datasets/Nodule-50-30K \\\n",
        "--name Nodule-50-30K-6 \\\n",
        "--ninput_edges 30000 \\\n",
        "--ncf 32 64 256 256 \\\n",
        "--pool_res 20000 15000 10000 5000 \\\n",
        "--norm batch \\\n",
        "--num_groups 1 \\\n",
        "--res_blocks 0 \\\n",
        "--batch_size 1 \\\n",
        "--num_threads 2 \\"
      ],
      "metadata": {
        "id": "fFMrpgqqiLFF"
      },
      "execution_count": null,
      "outputs": []
    },
    {
      "cell_type": "code",
      "source": [
        "saveResults(\"Nodule-50-30K-6\")"
      ],
      "metadata": {
        "id": "G5v0GAp1-MhM"
      },
      "execution_count": null,
      "outputs": []
    },
    {
      "cell_type": "code",
      "source": [
        "restoreResults(\"Nodule-50-30K-6\")"
      ],
      "metadata": {
        "id": "5ie_btq4RENN"
      },
      "execution_count": null,
      "outputs": []
    },
    {
      "cell_type": "code",
      "source": [
        "unloadDataset(dataset)"
      ],
      "metadata": {
        "id": "Lc8tIzW3C8qZ"
      },
      "execution_count": null,
      "outputs": []
    },
    {
      "cell_type": "markdown",
      "source": [
        "#### Run 7"
      ],
      "metadata": {
        "id": "TP6nV6OUT9nR"
      }
    },
    {
      "cell_type": "code",
      "source": [
        "dataset = \"Nodule-50-30K\"\n",
        "loadDataset(dataset)"
      ],
      "metadata": {
        "id": "ZnZGb1WZUALw",
        "colab": {
          "base_uri": "https://localhost:8080/"
        },
        "outputId": "001e5522-45fe-4d2d-ddf3-a336b529742a"
      },
      "execution_count": null,
      "outputs": [
        {
          "output_type": "stream",
          "name": "stdout",
          "text": [
            "Datos Nodule-50-30K cargada.\n"
          ]
        }
      ]
    },
    {
      "cell_type": "code",
      "source": [
        "!python ./networks/MeshCNNPlus/development/meshcnn/train.py \\\n",
        "--dataroot ./data/datasets/Nodule-50-30K \\\n",
        "--name Nodule-50-30K-7 \\\n",
        "--ninput_edges 30000 \\\n",
        "--ncf 32 64 256 256 \\\n",
        "--pool_res 20000 15000 10000 5000 \\\n",
        "--norm batch \\\n",
        "--num_groups 1 \\\n",
        "--res_blocks 0 \\\n",
        "--fc_n 2042 512 128 \\\n",
        "--flip_edges 0.2 \\\n",
        "--slide_verts 0.2 \\\n",
        "--num_aug 2 \\\n",
        "--niter 50 \\\n",
        "--niter_decay 10 \\\n",
        "--num_threads 2 \\\n",
        "--batch_size 1 \\\n",
        "--gpu_ids 0 \\\n",
        "--dropout 0.5 \\\n",
        "--amsgrad True \\"
      ],
      "metadata": {
        "id": "5-I2TmugUAL1"
      },
      "execution_count": null,
      "outputs": []
    },
    {
      "cell_type": "code",
      "source": [
        "!python ./networks/MeshCNNPlus/development/meshcnn/test.py \\\n",
        "--dataroot ./data/datasets/Nodule-50-30K \\\n",
        "--name Nodule-50-30K-7 \\\n",
        "--ninput_edges 30000 \\\n",
        "--ncf 32 64 256 256 \\\n",
        "--pool_res 20000 15000 10000 5000 \\\n",
        "--fc_n 2042 512 128 \\\n",
        "--norm batch \\\n",
        "--num_groups 1 \\\n",
        "--res_blocks 0 \\\n",
        "--batch_size 1 \\\n",
        "--num_threads 2 \\"
      ],
      "metadata": {
        "id": "eXvnVHDKUAL7",
        "colab": {
          "base_uri": "https://localhost:8080/"
        },
        "outputId": "790cdd74-5ea7-4375-968c-664bf1eca886"
      },
      "execution_count": null,
      "outputs": [
        {
          "output_type": "stream",
          "name": "stdout",
          "text": [
            "tensorboard X not installed, visualizing wont be available\n",
            "Running Test\n",
            "loaded mean / std from cache\n",
            "loading the model from ./checkpoints/Nodule-50-30K-7/latest_net.pth\n",
            "110-Izq.obj\n",
            "203-Izq.obj\n",
            "213-Izq.obj\n",
            "218-Izq.obj\n",
            "269-Izq.obj\n",
            "11-Izq.obj\n",
            "23-Izq.obj\n",
            "25-Izq.obj\n",
            "28-Izq.obj\n",
            "5-Izq.obj\n",
            "epoch: -1, TEST ACC: [80.00%], LOSS: 0.013\n",
            "\n"
          ]
        }
      ]
    },
    {
      "cell_type": "code",
      "source": [
        "saveResults(\"Nodule-50-30K-7\")"
      ],
      "metadata": {
        "id": "VISy3BEFUAL-"
      },
      "execution_count": null,
      "outputs": []
    },
    {
      "cell_type": "code",
      "source": [
        "restoreResults(\"Nodule-50-30K-7\")"
      ],
      "metadata": {
        "id": "8wh6DjTPUAMA",
        "colab": {
          "base_uri": "https://localhost:8080/"
        },
        "outputId": "341471c5-8d2c-4050-d8af-919327a3cff1"
      },
      "execution_count": null,
      "outputs": [
        {
          "output_type": "stream",
          "name": "stdout",
          "text": [
            "Datos Nodule-50-30K-7 descomprimidos correctamente\n"
          ]
        }
      ]
    },
    {
      "cell_type": "code",
      "source": [
        "unloadDataset(dataset)"
      ],
      "metadata": {
        "id": "BLb9aljhUAMC"
      },
      "execution_count": null,
      "outputs": []
    },
    {
      "cell_type": "markdown",
      "source": [
        "## Variants"
      ],
      "metadata": {
        "id": "do9uW3WVVCq9"
      }
    },
    {
      "cell_type": "markdown",
      "source": [
        "#### Run 2"
      ],
      "metadata": {
        "id": "1NEVqPKN-g9r"
      }
    },
    {
      "cell_type": "code",
      "source": [
        "dataset = \"Nodule-98-30K\"\n",
        "loadDataset(dataset)"
      ],
      "metadata": {
        "colab": {
          "base_uri": "https://localhost:8080/",
          "height": 187
        },
        "outputId": "3aa498cf-f0f0-4d92-89bc-c37c936d7373",
        "id": "KI1wP95I-g9t"
      },
      "execution_count": null,
      "outputs": [
        {
          "output_type": "error",
          "ename": "NameError",
          "evalue": "ignored",
          "traceback": [
            "\u001b[0;31m---------------------------------------------------------------------------\u001b[0m",
            "\u001b[0;31mNameError\u001b[0m                                 Traceback (most recent call last)",
            "\u001b[0;32m<ipython-input-1-e51e41b21489>\u001b[0m in \u001b[0;36m<module>\u001b[0;34m()\u001b[0m\n\u001b[1;32m      1\u001b[0m \u001b[0mdataset\u001b[0m \u001b[0;34m=\u001b[0m \u001b[0;34m\"Nodule-98-30K\"\u001b[0m\u001b[0;34m\u001b[0m\u001b[0;34m\u001b[0m\u001b[0m\n\u001b[0;32m----> 2\u001b[0;31m \u001b[0mloadDataset\u001b[0m\u001b[0;34m(\u001b[0m\u001b[0mdataset\u001b[0m\u001b[0;34m)\u001b[0m\u001b[0;34m\u001b[0m\u001b[0;34m\u001b[0m\u001b[0m\n\u001b[0m",
            "\u001b[0;31mNameError\u001b[0m: name 'loadDataset' is not defined"
          ]
        }
      ]
    },
    {
      "cell_type": "code",
      "source": [
        "!python ./networks/MeshCNNPlus/development/meshcnn/train.py \\\n",
        "--dataroot ./data/datasets/Nodule-98-30K \\\n",
        "--name Nodule-98-30K-1 \\\n",
        "--ninput_edges 30000 \\\n",
        "--ncf 16 16 32 64 \\\n",
        "--pool_res 20000 15000 8000 7500 \\\n",
        "--norm group \\\n",
        "--num_groups 1 \\\n",
        "--res_blocks 0 \\\n",
        "--fc_n 100 \\\n",
        "--flip_edges 0.2 \\\n",
        "--slide_verts 0.2 \\\n",
        "--num_aug 2 \\\n",
        "--niter 50 \\\n",
        "--niter_decay 10 \\\n",
        "--num_threads 2 \\\n",
        "--batch_size 1 \\\n",
        "--gpu_ids 0 \\\n",
        "--dropout 0 \\\n",
        "--amsgrad False \\"
      ],
      "metadata": {
        "id": "VXkMfWet-g9w"
      },
      "execution_count": null,
      "outputs": []
    },
    {
      "cell_type": "code",
      "source": [
        "!python ./networks/MeshCNNPlus/development/meshcnn/test.py \\\n",
        "--dataroot ./data/datasets/Nodule-98-30K \\\n",
        "--name Nodule-50-30K-2 \\\n",
        "--ninput_edges 30000 \\\n",
        "--ncf 16 16 32 64 \\\n",
        "--pool_res 20000 15000 10000 5000 \\\n",
        "--fc_n 100 \\\n",
        "--norm group \\\n",
        "--num_groups 1 \\\n",
        "--res_blocks 0 \\\n",
        "--batch_size 1 \\\n",
        "--num_threads 2 \\"
      ],
      "metadata": {
        "id": "HmOEJGTO-g90"
      },
      "execution_count": null,
      "outputs": []
    },
    {
      "cell_type": "code",
      "source": [
        "saveResults(\"Nodule-50-98K-1\")"
      ],
      "metadata": {
        "id": "NuBdHxO0-g92"
      },
      "execution_count": null,
      "outputs": []
    },
    {
      "cell_type": "code",
      "source": [
        "restoreResults(\"Nodule-50-98K-1\")"
      ],
      "metadata": {
        "id": "SnFAzeJJ-g94"
      },
      "execution_count": null,
      "outputs": []
    },
    {
      "cell_type": "code",
      "source": [
        "unloadDataset(dataset)"
      ],
      "metadata": {
        "id": "wQX3pmYv-g96",
        "colab": {
          "base_uri": "https://localhost:8080/"
        },
        "outputId": "7a5e9497-1ecf-48d5-b702-095a72b9e96e"
      },
      "execution_count": null,
      "outputs": [
        {
          "output_type": "stream",
          "name": "stdout",
          "text": [
            "Datos Nodule-98-30K borrados.\n"
          ]
        }
      ]
    },
    {
      "cell_type": "markdown",
      "source": [
        "## nucleoNoNucleo30K"
      ],
      "metadata": {
        "id": "97ArRrQJ5Nll"
      }
    },
    {
      "cell_type": "code",
      "source": [
        "# Nombre del dataset\n",
        "dataset = \"nucleoNoNucleo30K\""
      ],
      "metadata": {
        "id": "fA6R5ugRCt2t"
      },
      "execution_count": null,
      "outputs": []
    },
    {
      "cell_type": "code",
      "source": [
        "!python ./networks/MeshCNN/train.py \\\n",
        "--dataroot ./data/datasets/nucleoNoNucleo30K \\\n",
        "--name nucleoNoNucleo30K \\\n",
        "--ninput_edges 30000 \\\n",
        "--ncf 32 64 256 256 \\\n",
        "--pool_res 20000 15000 8000 5000 \\\n",
        "--norm group \\\n",
        "--resblocks 1 \\\n",
        "--flip_edges 0.2 \\\n",
        "--slide_verts 0.2 \\\n",
        "--num_aug 2 \\\n",
        "--niter 50 \\\n",
        "--niter_decay 50 \\\n",
        "--num_threads 2 \\\n",
        "--batch_size 1 \\"
      ],
      "metadata": {
        "id": "DSLwd-g05W9n",
        "colab": {
          "base_uri": "https://localhost:8080/"
        },
        "outputId": "ec8c2bf4-3222-42d9-90ca-7fec94c347b0"
      },
      "execution_count": null,
      "outputs": [
        {
          "output_type": "stream",
          "name": "stdout",
          "text": [
            "tensorboard X not installed, visualizing wont be available\n",
            "------------ Options -------------\n",
            "arch: mconvnet\n",
            "batch_size: 1\n",
            "beta1: 0.9\n",
            "checkpoints_dir: ./checkpoints\n",
            "continue_train: False\n",
            "dataroot: ./data/datasets/nucleoNoNucleo30K\n",
            "dataset_mode: classification\n",
            "epoch_count: 1\n",
            "export_folder: \n",
            "fc_n: 100\n",
            "flip_edges: 0.2\n",
            "gpu_ids: [0]\n",
            "init_gain: 0.02\n",
            "init_type: normal\n",
            "is_train: True\n",
            "lr: 0.0002\n",
            "lr_decay_iters: 50\n",
            "lr_policy: lambda\n",
            "max_dataset_size: inf\n",
            "name: nucleoNoNucleo30K\n",
            "ncf: [32, 64, 256, 256]\n",
            "ninput_edges: 30000\n",
            "niter: 50\n",
            "niter_decay: 50\n",
            "no_vis: False\n",
            "norm: group\n",
            "num_aug: 2\n",
            "num_groups: 16\n",
            "num_threads: 2\n",
            "phase: train\n",
            "pool_res: [20000, 15000, 8000, 5000]\n",
            "print_freq: 10\n",
            "resblocks: 1\n",
            "run_test_freq: 1\n",
            "save_epoch_freq: 1\n",
            "save_latest_freq: 250\n",
            "scale_verts: False\n",
            "seed: None\n",
            "serial_batches: False\n",
            "slide_verts: 0.2\n",
            "verbose_plot: False\n",
            "which_epoch: latest\n",
            "-------------- End ----------------\n",
            "computing mean std from train data...\n",
            "/usr/local/lib/python3.7/dist-packages/numpy/lib/npyio.py:719: VisibleDeprecationWarning: Creating an ndarray from ragged nested sequences (which is a list-or-tuple of lists-or-tuples-or ndarrays with different lengths or shapes) is deprecated. If you meant to do this, you must specify 'dtype=object' when creating the ndarray.\n",
            "  val = np.asanyarray(val)\n",
            "0 of 4\n",
            "saved:  ./data/datasets/nucleoNoNucleo30K/mean_std_cache.p\n",
            "loaded mean / std from cache\n",
            "#training meshes = 4\n",
            "---------- Network initialized -------------\n",
            "[Network] Total number of parameters : 1.130 M\n",
            "-----------------------------------------------\n",
            "saving the latest model (epoch 1, total_steps 1)\n",
            "saving the model at the end of epoch 1, iters 4\n",
            "End of epoch 1 / 100 \t Time Taken: 13 sec\n",
            "learning rate = 0.0002000\n",
            "Running Test\n",
            "loaded mean / std from cache\n",
            "loading the model from ./checkpoints/nucleoNoNucleo30K/latest_net.pth\n",
            "epoch: 1, TEST ACC: [33.333 %]\n",
            "\n",
            "saving the latest model (epoch 2, total_steps 5)\n",
            "saving the model at the end of epoch 2, iters 8\n",
            "End of epoch 2 / 100 \t Time Taken: 16 sec\n",
            "learning rate = 0.0002000\n",
            "Running Test\n",
            "loaded mean / std from cache\n",
            "loading the model from ./checkpoints/nucleoNoNucleo30K/latest_net.pth\n",
            "epoch: 2, TEST ACC: [66.667 %]\n",
            "\n",
            "saving the latest model (epoch 3, total_steps 9)\n",
            "(epoch: 3, iters: 2, time: 2.878, data: 0.209) loss: 0.681 \n",
            "saving the model at the end of epoch 3, iters 12\n",
            "End of epoch 3 / 100 \t Time Taken: 11 sec\n",
            "learning rate = 0.0002000\n",
            "Running Test\n",
            "loaded mean / std from cache\n",
            "loading the model from ./checkpoints/nucleoNoNucleo30K/latest_net.pth\n",
            "epoch: 3, TEST ACC: [66.667 %]\n",
            "\n",
            "saving the latest model (epoch 4, total_steps 13)\n",
            "saving the model at the end of epoch 4, iters 16\n",
            "End of epoch 4 / 100 \t Time Taken: 14 sec\n",
            "learning rate = 0.0002000\n",
            "Running Test\n",
            "loaded mean / std from cache\n",
            "loading the model from ./checkpoints/nucleoNoNucleo30K/latest_net.pth\n",
            "epoch: 4, TEST ACC: [33.333 %]\n",
            "\n",
            "saving the latest model (epoch 5, total_steps 17)\n",
            "(epoch: 5, iters: 4, time: 2.926, data: 0.013) loss: 0.708 \n",
            "saving the model at the end of epoch 5, iters 20\n",
            "End of epoch 5 / 100 \t Time Taken: 12 sec\n",
            "learning rate = 0.0002000\n",
            "Running Test\n",
            "loaded mean / std from cache\n",
            "loading the model from ./checkpoints/nucleoNoNucleo30K/latest_net.pth\n",
            "epoch: 5, TEST ACC: [33.333 %]\n",
            "\n",
            "saving the latest model (epoch 6, total_steps 21)\n",
            "saving the model at the end of epoch 6, iters 24\n",
            "End of epoch 6 / 100 \t Time Taken: 11 sec\n",
            "learning rate = 0.0002000\n",
            "Running Test\n",
            "loaded mean / std from cache\n",
            "loading the model from ./checkpoints/nucleoNoNucleo30K/latest_net.pth\n",
            "epoch: 6, TEST ACC: [33.333 %]\n",
            "\n",
            "saving the latest model (epoch 7, total_steps 25)\n",
            "saving the model at the end of epoch 7, iters 28\n",
            "End of epoch 7 / 100 \t Time Taken: 11 sec\n",
            "learning rate = 0.0002000\n",
            "Running Test\n",
            "loaded mean / std from cache\n",
            "loading the model from ./checkpoints/nucleoNoNucleo30K/latest_net.pth\n",
            "epoch: 7, TEST ACC: [66.667 %]\n",
            "\n",
            "saving the latest model (epoch 8, total_steps 29)\n",
            "(epoch: 8, iters: 2, time: 2.674, data: 0.201) loss: 0.666 \n",
            "saving the model at the end of epoch 8, iters 32\n",
            "End of epoch 8 / 100 \t Time Taken: 11 sec\n",
            "learning rate = 0.0002000\n",
            "Running Test\n",
            "loaded mean / std from cache\n",
            "loading the model from ./checkpoints/nucleoNoNucleo30K/latest_net.pth\n",
            "epoch: 8, TEST ACC: [66.667 %]\n",
            "\n",
            "saving the latest model (epoch 9, total_steps 33)\n",
            "saving the model at the end of epoch 9, iters 36\n",
            "End of epoch 9 / 100 \t Time Taken: 11 sec\n",
            "learning rate = 0.0002000\n",
            "Running Test\n",
            "loaded mean / std from cache\n",
            "loading the model from ./checkpoints/nucleoNoNucleo30K/latest_net.pth\n",
            "epoch: 9, TEST ACC: [66.667 %]\n",
            "\n",
            "saving the latest model (epoch 10, total_steps 37)\n",
            "(epoch: 10, iters: 4, time: 3.014, data: 0.013) loss: 0.694 \n",
            "saving the model at the end of epoch 10, iters 40\n",
            "End of epoch 10 / 100 \t Time Taken: 12 sec\n",
            "learning rate = 0.0002000\n",
            "Running Test\n",
            "loaded mean / std from cache\n",
            "loading the model from ./checkpoints/nucleoNoNucleo30K/latest_net.pth\n",
            "epoch: 10, TEST ACC: [66.667 %]\n",
            "\n",
            "saving the latest model (epoch 11, total_steps 41)\n",
            "saving the model at the end of epoch 11, iters 44\n",
            "End of epoch 11 / 100 \t Time Taken: 11 sec\n",
            "learning rate = 0.0002000\n",
            "Running Test\n",
            "loaded mean / std from cache\n",
            "loading the model from ./checkpoints/nucleoNoNucleo30K/latest_net.pth\n",
            "epoch: 11, TEST ACC: [66.667 %]\n",
            "\n",
            "saving the latest model (epoch 12, total_steps 45)\n",
            "saving the model at the end of epoch 12, iters 48\n",
            "End of epoch 12 / 100 \t Time Taken: 12 sec\n",
            "learning rate = 0.0002000\n",
            "Running Test\n",
            "loaded mean / std from cache\n",
            "loading the model from ./checkpoints/nucleoNoNucleo30K/latest_net.pth\n",
            "epoch: 12, TEST ACC: [66.667 %]\n",
            "\n",
            "saving the latest model (epoch 13, total_steps 49)\n",
            "(epoch: 13, iters: 2, time: 2.711, data: 0.213) loss: 0.656 \n",
            "saving the model at the end of epoch 13, iters 52\n",
            "End of epoch 13 / 100 \t Time Taken: 11 sec\n",
            "learning rate = 0.0002000\n",
            "Running Test\n",
            "loaded mean / std from cache\n",
            "loading the model from ./checkpoints/nucleoNoNucleo30K/latest_net.pth\n",
            "epoch: 13, TEST ACC: [66.667 %]\n",
            "\n",
            "saving the latest model (epoch 14, total_steps 53)\n",
            "saving the model at the end of epoch 14, iters 56\n",
            "End of epoch 14 / 100 \t Time Taken: 12 sec\n",
            "learning rate = 0.0002000\n",
            "Running Test\n",
            "loaded mean / std from cache\n",
            "loading the model from ./checkpoints/nucleoNoNucleo30K/latest_net.pth\n",
            "epoch: 14, TEST ACC: [66.667 %]\n",
            "\n",
            "saving the latest model (epoch 15, total_steps 57)\n",
            "(epoch: 15, iters: 4, time: 2.881, data: 0.013) loss: 0.660 \n",
            "saving the model at the end of epoch 15, iters 60\n",
            "End of epoch 15 / 100 \t Time Taken: 11 sec\n",
            "learning rate = 0.0002000\n",
            "Running Test\n",
            "loaded mean / std from cache\n",
            "loading the model from ./checkpoints/nucleoNoNucleo30K/latest_net.pth\n",
            "epoch: 15, TEST ACC: [66.667 %]\n",
            "\n",
            "saving the latest model (epoch 16, total_steps 61)\n",
            "saving the model at the end of epoch 16, iters 64\n",
            "End of epoch 16 / 100 \t Time Taken: 11 sec\n",
            "learning rate = 0.0002000\n",
            "Running Test\n",
            "loaded mean / std from cache\n",
            "loading the model from ./checkpoints/nucleoNoNucleo30K/latest_net.pth\n",
            "epoch: 16, TEST ACC: [66.667 %]\n",
            "\n",
            "saving the latest model (epoch 17, total_steps 65)\n",
            "saving the model at the end of epoch 17, iters 68\n",
            "End of epoch 17 / 100 \t Time Taken: 11 sec\n",
            "learning rate = 0.0002000\n",
            "Running Test\n",
            "loaded mean / std from cache\n",
            "loading the model from ./checkpoints/nucleoNoNucleo30K/latest_net.pth\n",
            "epoch: 17, TEST ACC: [66.667 %]\n",
            "\n",
            "saving the latest model (epoch 18, total_steps 69)\n",
            "(epoch: 18, iters: 2, time: 2.800, data: 0.219) loss: 0.621 \n",
            "saving the model at the end of epoch 18, iters 72\n",
            "End of epoch 18 / 100 \t Time Taken: 11 sec\n",
            "learning rate = 0.0002000\n",
            "Running Test\n",
            "loaded mean / std from cache\n",
            "loading the model from ./checkpoints/nucleoNoNucleo30K/latest_net.pth\n",
            "epoch: 18, TEST ACC: [66.667 %]\n",
            "\n",
            "saving the latest model (epoch 19, total_steps 73)\n",
            "saving the model at the end of epoch 19, iters 76\n",
            "End of epoch 19 / 100 \t Time Taken: 11 sec\n",
            "learning rate = 0.0002000\n",
            "Running Test\n",
            "loaded mean / std from cache\n",
            "loading the model from ./checkpoints/nucleoNoNucleo30K/latest_net.pth\n",
            "epoch: 19, TEST ACC: [66.667 %]\n",
            "\n",
            "saving the latest model (epoch 20, total_steps 77)\n",
            "(epoch: 20, iters: 4, time: 2.750, data: 0.015) loss: 0.668 \n",
            "saving the model at the end of epoch 20, iters 80\n",
            "End of epoch 20 / 100 \t Time Taken: 11 sec\n",
            "learning rate = 0.0002000\n",
            "Running Test\n",
            "loaded mean / std from cache\n",
            "loading the model from ./checkpoints/nucleoNoNucleo30K/latest_net.pth\n",
            "epoch: 20, TEST ACC: [66.667 %]\n",
            "\n",
            "saving the latest model (epoch 21, total_steps 81)\n",
            "saving the model at the end of epoch 21, iters 84\n",
            "End of epoch 21 / 100 \t Time Taken: 11 sec\n",
            "learning rate = 0.0002000\n",
            "Running Test\n",
            "loaded mean / std from cache\n",
            "loading the model from ./checkpoints/nucleoNoNucleo30K/latest_net.pth\n",
            "epoch: 21, TEST ACC: [66.667 %]\n",
            "\n",
            "saving the latest model (epoch 22, total_steps 85)\n",
            "saving the model at the end of epoch 22, iters 88\n",
            "End of epoch 22 / 100 \t Time Taken: 11 sec\n",
            "learning rate = 0.0002000\n",
            "Running Test\n",
            "loaded mean / std from cache\n",
            "loading the model from ./checkpoints/nucleoNoNucleo30K/latest_net.pth\n",
            "epoch: 22, TEST ACC: [100.0 %]\n",
            "\n",
            "saving the latest model (epoch 23, total_steps 89)\n",
            "(epoch: 23, iters: 2, time: 2.691, data: 0.201) loss: 0.605 \n",
            "saving the model at the end of epoch 23, iters 92\n",
            "End of epoch 23 / 100 \t Time Taken: 11 sec\n",
            "learning rate = 0.0002000\n",
            "Running Test\n",
            "loaded mean / std from cache\n",
            "loading the model from ./checkpoints/nucleoNoNucleo30K/latest_net.pth\n",
            "epoch: 23, TEST ACC: [66.667 %]\n",
            "\n",
            "saving the latest model (epoch 24, total_steps 93)\n",
            "saving the model at the end of epoch 24, iters 96\n",
            "End of epoch 24 / 100 \t Time Taken: 11 sec\n",
            "learning rate = 0.0002000\n",
            "Running Test\n",
            "loaded mean / std from cache\n",
            "loading the model from ./checkpoints/nucleoNoNucleo30K/latest_net.pth\n",
            "epoch: 24, TEST ACC: [100.0 %]\n",
            "\n",
            "saving the latest model (epoch 25, total_steps 97)\n",
            "(epoch: 25, iters: 4, time: 2.700, data: 0.014) loss: 0.535 \n",
            "saving the model at the end of epoch 25, iters 100\n",
            "End of epoch 25 / 100 \t Time Taken: 11 sec\n",
            "learning rate = 0.0002000\n",
            "Running Test\n",
            "loaded mean / std from cache\n",
            "loading the model from ./checkpoints/nucleoNoNucleo30K/latest_net.pth\n",
            "epoch: 25, TEST ACC: [66.667 %]\n",
            "\n",
            "saving the latest model (epoch 26, total_steps 101)\n",
            "saving the model at the end of epoch 26, iters 104\n",
            "End of epoch 26 / 100 \t Time Taken: 11 sec\n",
            "learning rate = 0.0002000\n",
            "Running Test\n",
            "loaded mean / std from cache\n",
            "loading the model from ./checkpoints/nucleoNoNucleo30K/latest_net.pth\n",
            "epoch: 26, TEST ACC: [66.667 %]\n",
            "\n",
            "saving the latest model (epoch 27, total_steps 105)\n",
            "saving the model at the end of epoch 27, iters 108\n",
            "End of epoch 27 / 100 \t Time Taken: 11 sec\n",
            "learning rate = 0.0002000\n",
            "Running Test\n",
            "loaded mean / std from cache\n",
            "loading the model from ./checkpoints/nucleoNoNucleo30K/latest_net.pth\n",
            "epoch: 27, TEST ACC: [100.0 %]\n",
            "\n",
            "saving the latest model (epoch 28, total_steps 109)\n",
            "(epoch: 28, iters: 2, time: 2.881, data: 0.209) loss: 0.451 \n",
            "saving the model at the end of epoch 28, iters 112\n",
            "End of epoch 28 / 100 \t Time Taken: 11 sec\n",
            "learning rate = 0.0002000\n",
            "Running Test\n",
            "loaded mean / std from cache\n",
            "loading the model from ./checkpoints/nucleoNoNucleo30K/latest_net.pth\n",
            "epoch: 28, TEST ACC: [33.333 %]\n",
            "\n",
            "saving the latest model (epoch 29, total_steps 113)\n",
            "saving the model at the end of epoch 29, iters 116\n",
            "End of epoch 29 / 100 \t Time Taken: 11 sec\n",
            "learning rate = 0.0002000\n",
            "Running Test\n",
            "loaded mean / std from cache\n",
            "loading the model from ./checkpoints/nucleoNoNucleo30K/latest_net.pth\n",
            "epoch: 29, TEST ACC: [66.667 %]\n",
            "\n",
            "saving the latest model (epoch 30, total_steps 117)\n",
            "(epoch: 30, iters: 4, time: 2.784, data: 0.014) loss: 0.134 \n",
            "saving the model at the end of epoch 30, iters 120\n",
            "End of epoch 30 / 100 \t Time Taken: 11 sec\n",
            "learning rate = 0.0002000\n",
            "Running Test\n",
            "loaded mean / std from cache\n",
            "loading the model from ./checkpoints/nucleoNoNucleo30K/latest_net.pth\n",
            "epoch: 30, TEST ACC: [66.667 %]\n",
            "\n",
            "saving the latest model (epoch 31, total_steps 121)\n",
            "saving the model at the end of epoch 31, iters 124\n",
            "End of epoch 31 / 100 \t Time Taken: 11 sec\n",
            "learning rate = 0.0002000\n",
            "Running Test\n",
            "loaded mean / std from cache\n",
            "loading the model from ./checkpoints/nucleoNoNucleo30K/latest_net.pth\n",
            "epoch: 31, TEST ACC: [100.0 %]\n",
            "\n",
            "saving the latest model (epoch 32, total_steps 125)\n",
            "saving the model at the end of epoch 32, iters 128\n",
            "End of epoch 32 / 100 \t Time Taken: 11 sec\n",
            "learning rate = 0.0002000\n",
            "Running Test\n",
            "loaded mean / std from cache\n",
            "loading the model from ./checkpoints/nucleoNoNucleo30K/latest_net.pth\n",
            "epoch: 32, TEST ACC: [100.0 %]\n",
            "\n",
            "saving the latest model (epoch 33, total_steps 129)\n",
            "(epoch: 33, iters: 2, time: 2.511, data: 0.203) loss: 0.068 \n",
            "saving the model at the end of epoch 33, iters 132\n",
            "End of epoch 33 / 100 \t Time Taken: 11 sec\n",
            "learning rate = 0.0002000\n",
            "Running Test\n",
            "loaded mean / std from cache\n",
            "loading the model from ./checkpoints/nucleoNoNucleo30K/latest_net.pth\n",
            "epoch: 33, TEST ACC: [100.0 %]\n",
            "\n",
            "saving the latest model (epoch 34, total_steps 133)\n",
            "saving the model at the end of epoch 34, iters 136\n",
            "End of epoch 34 / 100 \t Time Taken: 11 sec\n",
            "learning rate = 0.0002000\n",
            "Running Test\n",
            "loaded mean / std from cache\n",
            "loading the model from ./checkpoints/nucleoNoNucleo30K/latest_net.pth\n",
            "epoch: 34, TEST ACC: [100.0 %]\n",
            "\n",
            "saving the latest model (epoch 35, total_steps 137)\n",
            "(epoch: 35, iters: 4, time: 2.698, data: 0.013) loss: 0.061 \n",
            "saving the model at the end of epoch 35, iters 140\n",
            "End of epoch 35 / 100 \t Time Taken: 11 sec\n",
            "learning rate = 0.0002000\n",
            "Running Test\n",
            "loaded mean / std from cache\n",
            "loading the model from ./checkpoints/nucleoNoNucleo30K/latest_net.pth\n",
            "epoch: 35, TEST ACC: [100.0 %]\n",
            "\n",
            "saving the latest model (epoch 36, total_steps 141)\n",
            "saving the model at the end of epoch 36, iters 144\n",
            "End of epoch 36 / 100 \t Time Taken: 10 sec\n",
            "learning rate = 0.0002000\n",
            "Running Test\n",
            "loaded mean / std from cache\n",
            "loading the model from ./checkpoints/nucleoNoNucleo30K/latest_net.pth\n",
            "epoch: 36, TEST ACC: [100.0 %]\n",
            "\n",
            "saving the latest model (epoch 37, total_steps 145)\n",
            "saving the model at the end of epoch 37, iters 148\n",
            "End of epoch 37 / 100 \t Time Taken: 11 sec\n",
            "learning rate = 0.0002000\n",
            "Running Test\n",
            "loaded mean / std from cache\n",
            "loading the model from ./checkpoints/nucleoNoNucleo30K/latest_net.pth\n",
            "epoch: 37, TEST ACC: [100.0 %]\n",
            "\n",
            "saving the latest model (epoch 38, total_steps 149)\n",
            "(epoch: 38, iters: 2, time: 2.553, data: 0.347) loss: 0.030 \n",
            "saving the model at the end of epoch 38, iters 152\n",
            "End of epoch 38 / 100 \t Time Taken: 11 sec\n",
            "learning rate = 0.0002000\n",
            "Running Test\n",
            "loaded mean / std from cache\n",
            "loading the model from ./checkpoints/nucleoNoNucleo30K/latest_net.pth\n",
            "epoch: 38, TEST ACC: [100.0 %]\n",
            "\n",
            "saving the latest model (epoch 39, total_steps 153)\n",
            "saving the model at the end of epoch 39, iters 156\n",
            "End of epoch 39 / 100 \t Time Taken: 10 sec\n",
            "learning rate = 0.0002000\n",
            "Running Test\n",
            "loaded mean / std from cache\n",
            "loading the model from ./checkpoints/nucleoNoNucleo30K/latest_net.pth\n",
            "epoch: 39, TEST ACC: [100.0 %]\n",
            "\n",
            "saving the latest model (epoch 40, total_steps 157)\n",
            "(epoch: 40, iters: 4, time: 2.788, data: 0.013) loss: 0.049 \n",
            "saving the model at the end of epoch 40, iters 160\n",
            "End of epoch 40 / 100 \t Time Taken: 11 sec\n",
            "learning rate = 0.0002000\n",
            "Running Test\n",
            "loaded mean / std from cache\n",
            "loading the model from ./checkpoints/nucleoNoNucleo30K/latest_net.pth\n",
            "epoch: 40, TEST ACC: [100.0 %]\n",
            "\n",
            "saving the latest model (epoch 41, total_steps 161)\n",
            "saving the model at the end of epoch 41, iters 164\n",
            "End of epoch 41 / 100 \t Time Taken: 10 sec\n",
            "learning rate = 0.0002000\n",
            "Running Test\n",
            "loaded mean / std from cache\n",
            "loading the model from ./checkpoints/nucleoNoNucleo30K/latest_net.pth\n",
            "epoch: 41, TEST ACC: [100.0 %]\n",
            "\n",
            "saving the latest model (epoch 42, total_steps 165)\n",
            "saving the model at the end of epoch 42, iters 168\n",
            "End of epoch 42 / 100 \t Time Taken: 11 sec\n",
            "learning rate = 0.0002000\n",
            "Running Test\n",
            "loaded mean / std from cache\n",
            "loading the model from ./checkpoints/nucleoNoNucleo30K/latest_net.pth\n",
            "epoch: 42, TEST ACC: [100.0 %]\n",
            "\n",
            "saving the latest model (epoch 43, total_steps 169)\n",
            "(epoch: 43, iters: 2, time: 2.585, data: 0.207) loss: 0.027 \n",
            "saving the model at the end of epoch 43, iters 172\n",
            "End of epoch 43 / 100 \t Time Taken: 11 sec\n",
            "learning rate = 0.0002000\n",
            "Running Test\n",
            "loaded mean / std from cache\n",
            "loading the model from ./checkpoints/nucleoNoNucleo30K/latest_net.pth\n",
            "epoch: 43, TEST ACC: [100.0 %]\n",
            "\n",
            "saving the latest model (epoch 44, total_steps 173)\n",
            "saving the model at the end of epoch 44, iters 176\n",
            "End of epoch 44 / 100 \t Time Taken: 10 sec\n",
            "learning rate = 0.0002000\n",
            "Running Test\n",
            "loaded mean / std from cache\n",
            "loading the model from ./checkpoints/nucleoNoNucleo30K/latest_net.pth\n",
            "epoch: 44, TEST ACC: [100.0 %]\n",
            "\n",
            "saving the latest model (epoch 45, total_steps 177)\n",
            "(epoch: 45, iters: 4, time: 2.693, data: 0.014) loss: 0.017 \n",
            "saving the model at the end of epoch 45, iters 180\n",
            "End of epoch 45 / 100 \t Time Taken: 11 sec\n",
            "learning rate = 0.0002000\n",
            "Running Test\n",
            "loaded mean / std from cache\n",
            "loading the model from ./checkpoints/nucleoNoNucleo30K/latest_net.pth\n",
            "epoch: 45, TEST ACC: [100.0 %]\n",
            "\n",
            "saving the latest model (epoch 46, total_steps 181)\n",
            "saving the model at the end of epoch 46, iters 184\n",
            "End of epoch 46 / 100 \t Time Taken: 11 sec\n",
            "learning rate = 0.0002000\n",
            "Running Test\n",
            "loaded mean / std from cache\n",
            "loading the model from ./checkpoints/nucleoNoNucleo30K/latest_net.pth\n",
            "epoch: 46, TEST ACC: [100.0 %]\n",
            "\n",
            "saving the latest model (epoch 47, total_steps 185)\n",
            "saving the model at the end of epoch 47, iters 188\n",
            "End of epoch 47 / 100 \t Time Taken: 11 sec\n",
            "learning rate = 0.0002000\n",
            "Running Test\n",
            "loaded mean / std from cache\n",
            "loading the model from ./checkpoints/nucleoNoNucleo30K/latest_net.pth\n",
            "epoch: 47, TEST ACC: [100.0 %]\n",
            "\n",
            "saving the latest model (epoch 48, total_steps 189)\n",
            "(epoch: 48, iters: 2, time: 2.609, data: 0.355) loss: 0.012 \n",
            "saving the model at the end of epoch 48, iters 192\n",
            "End of epoch 48 / 100 \t Time Taken: 11 sec\n",
            "learning rate = 0.0002000\n",
            "Running Test\n",
            "loaded mean / std from cache\n",
            "loading the model from ./checkpoints/nucleoNoNucleo30K/latest_net.pth\n",
            "epoch: 48, TEST ACC: [100.0 %]\n",
            "\n",
            "saving the latest model (epoch 49, total_steps 193)\n",
            "saving the model at the end of epoch 49, iters 196\n",
            "End of epoch 49 / 100 \t Time Taken: 11 sec\n",
            "learning rate = 0.0001961\n",
            "Running Test\n",
            "loaded mean / std from cache\n",
            "loading the model from ./checkpoints/nucleoNoNucleo30K/latest_net.pth\n",
            "epoch: 49, TEST ACC: [100.0 %]\n",
            "\n",
            "saving the latest model (epoch 50, total_steps 197)\n",
            "(epoch: 50, iters: 4, time: 2.594, data: 0.013) loss: 0.009 \n",
            "saving the model at the end of epoch 50, iters 200\n",
            "End of epoch 50 / 100 \t Time Taken: 11 sec\n",
            "learning rate = 0.0001922\n",
            "Running Test\n",
            "loaded mean / std from cache\n",
            "loading the model from ./checkpoints/nucleoNoNucleo30K/latest_net.pth\n",
            "epoch: 50, TEST ACC: [100.0 %]\n",
            "\n",
            "saving the latest model (epoch 51, total_steps 201)\n",
            "saving the model at the end of epoch 51, iters 204\n",
            "End of epoch 51 / 100 \t Time Taken: 11 sec\n",
            "learning rate = 0.0001882\n",
            "Running Test\n",
            "loaded mean / std from cache\n",
            "loading the model from ./checkpoints/nucleoNoNucleo30K/latest_net.pth\n",
            "epoch: 51, TEST ACC: [100.0 %]\n",
            "\n",
            "saving the latest model (epoch 52, total_steps 205)\n",
            "saving the model at the end of epoch 52, iters 208\n",
            "End of epoch 52 / 100 \t Time Taken: 10 sec\n",
            "learning rate = 0.0001843\n",
            "Running Test\n",
            "loaded mean / std from cache\n",
            "loading the model from ./checkpoints/nucleoNoNucleo30K/latest_net.pth\n",
            "epoch: 52, TEST ACC: [100.0 %]\n",
            "\n",
            "saving the latest model (epoch 53, total_steps 209)\n",
            "(epoch: 53, iters: 2, time: 2.502, data: 0.250) loss: 0.007 \n",
            "saving the model at the end of epoch 53, iters 212\n",
            "End of epoch 53 / 100 \t Time Taken: 10 sec\n",
            "learning rate = 0.0001804\n",
            "Running Test\n",
            "loaded mean / std from cache\n",
            "loading the model from ./checkpoints/nucleoNoNucleo30K/latest_net.pth\n",
            "epoch: 53, TEST ACC: [100.0 %]\n",
            "\n",
            "saving the latest model (epoch 54, total_steps 213)\n",
            "saving the model at the end of epoch 54, iters 216\n",
            "End of epoch 54 / 100 \t Time Taken: 10 sec\n",
            "learning rate = 0.0001765\n",
            "Running Test\n",
            "loaded mean / std from cache\n",
            "loading the model from ./checkpoints/nucleoNoNucleo30K/latest_net.pth\n",
            "epoch: 54, TEST ACC: [100.0 %]\n",
            "\n",
            "saving the latest model (epoch 55, total_steps 217)\n",
            "(epoch: 55, iters: 4, time: 2.672, data: 0.013) loss: 0.007 \n",
            "saving the model at the end of epoch 55, iters 220\n",
            "End of epoch 55 / 100 \t Time Taken: 10 sec\n",
            "learning rate = 0.0001725\n",
            "Running Test\n",
            "loaded mean / std from cache\n",
            "loading the model from ./checkpoints/nucleoNoNucleo30K/latest_net.pth\n",
            "epoch: 55, TEST ACC: [100.0 %]\n",
            "\n",
            "saving the latest model (epoch 56, total_steps 221)\n",
            "saving the model at the end of epoch 56, iters 224\n",
            "End of epoch 56 / 100 \t Time Taken: 10 sec\n",
            "learning rate = 0.0001686\n",
            "Running Test\n",
            "loaded mean / std from cache\n",
            "loading the model from ./checkpoints/nucleoNoNucleo30K/latest_net.pth\n",
            "epoch: 56, TEST ACC: [100.0 %]\n",
            "\n",
            "saving the latest model (epoch 57, total_steps 225)\n",
            "saving the model at the end of epoch 57, iters 228\n",
            "End of epoch 57 / 100 \t Time Taken: 10 sec\n",
            "learning rate = 0.0001647\n",
            "Running Test\n",
            "loaded mean / std from cache\n",
            "loading the model from ./checkpoints/nucleoNoNucleo30K/latest_net.pth\n",
            "epoch: 57, TEST ACC: [100.0 %]\n",
            "\n",
            "saving the latest model (epoch 58, total_steps 229)\n",
            "(epoch: 58, iters: 2, time: 2.559, data: 0.216) loss: 0.010 \n",
            "saving the model at the end of epoch 58, iters 232\n",
            "End of epoch 58 / 100 \t Time Taken: 10 sec\n",
            "learning rate = 0.0001608\n",
            "Running Test\n",
            "loaded mean / std from cache\n",
            "loading the model from ./checkpoints/nucleoNoNucleo30K/latest_net.pth\n",
            "epoch: 58, TEST ACC: [100.0 %]\n",
            "\n",
            "saving the latest model (epoch 59, total_steps 233)\n",
            "saving the model at the end of epoch 59, iters 236\n",
            "End of epoch 59 / 100 \t Time Taken: 10 sec\n",
            "learning rate = 0.0001569\n",
            "Running Test\n",
            "loaded mean / std from cache\n",
            "loading the model from ./checkpoints/nucleoNoNucleo30K/latest_net.pth\n",
            "epoch: 59, TEST ACC: [100.0 %]\n",
            "\n",
            "saving the latest model (epoch 60, total_steps 237)\n",
            "(epoch: 60, iters: 4, time: 2.566, data: 0.012) loss: 0.004 \n",
            "saving the model at the end of epoch 60, iters 240\n",
            "End of epoch 60 / 100 \t Time Taken: 10 sec\n",
            "learning rate = 0.0001529\n",
            "Running Test\n",
            "loaded mean / std from cache\n",
            "loading the model from ./checkpoints/nucleoNoNucleo30K/latest_net.pth\n",
            "epoch: 60, TEST ACC: [100.0 %]\n",
            "\n",
            "saving the latest model (epoch 61, total_steps 241)\n",
            "saving the model at the end of epoch 61, iters 244\n",
            "End of epoch 61 / 100 \t Time Taken: 10 sec\n",
            "learning rate = 0.0001490\n",
            "Running Test\n",
            "loaded mean / std from cache\n",
            "loading the model from ./checkpoints/nucleoNoNucleo30K/latest_net.pth\n",
            "epoch: 61, TEST ACC: [100.0 %]\n",
            "\n",
            "saving the latest model (epoch 62, total_steps 245)\n",
            "saving the model at the end of epoch 62, iters 248\n",
            "End of epoch 62 / 100 \t Time Taken: 10 sec\n",
            "learning rate = 0.0001451\n",
            "Running Test\n",
            "loaded mean / std from cache\n",
            "loading the model from ./checkpoints/nucleoNoNucleo30K/latest_net.pth\n",
            "epoch: 62, TEST ACC: [100.0 %]\n",
            "\n",
            "saving the latest model (epoch 63, total_steps 249)\n",
            "(epoch: 63, iters: 2, time: 2.561, data: 0.218) loss: 0.004 \n",
            "saving the model at the end of epoch 63, iters 252\n",
            "End of epoch 63 / 100 \t Time Taken: 10 sec\n",
            "learning rate = 0.0001412\n",
            "Running Test\n",
            "loaded mean / std from cache\n",
            "loading the model from ./checkpoints/nucleoNoNucleo30K/latest_net.pth\n",
            "epoch: 63, TEST ACC: [100.0 %]\n",
            "\n",
            "saving the latest model (epoch 64, total_steps 253)\n",
            "saving the model at the end of epoch 64, iters 256\n",
            "End of epoch 64 / 100 \t Time Taken: 11 sec\n",
            "learning rate = 0.0001373\n",
            "Running Test\n",
            "loaded mean / std from cache\n",
            "loading the model from ./checkpoints/nucleoNoNucleo30K/latest_net.pth\n",
            "epoch: 64, TEST ACC: [100.0 %]\n",
            "\n",
            "saving the latest model (epoch 65, total_steps 257)\n",
            "(epoch: 65, iters: 4, time: 2.549, data: 0.013) loss: 0.005 \n",
            "saving the model at the end of epoch 65, iters 260\n",
            "End of epoch 65 / 100 \t Time Taken: 10 sec\n",
            "learning rate = 0.0001333\n",
            "Running Test\n",
            "loaded mean / std from cache\n",
            "loading the model from ./checkpoints/nucleoNoNucleo30K/latest_net.pth\n",
            "epoch: 65, TEST ACC: [100.0 %]\n",
            "\n",
            "saving the latest model (epoch 66, total_steps 261)\n",
            "saving the model at the end of epoch 66, iters 264\n",
            "End of epoch 66 / 100 \t Time Taken: 10 sec\n",
            "learning rate = 0.0001294\n",
            "Running Test\n",
            "loaded mean / std from cache\n",
            "loading the model from ./checkpoints/nucleoNoNucleo30K/latest_net.pth\n",
            "epoch: 66, TEST ACC: [100.0 %]\n",
            "\n",
            "saving the latest model (epoch 67, total_steps 265)\n",
            "saving the model at the end of epoch 67, iters 268\n",
            "End of epoch 67 / 100 \t Time Taken: 10 sec\n",
            "learning rate = 0.0001255\n",
            "Running Test\n",
            "loaded mean / std from cache\n",
            "loading the model from ./checkpoints/nucleoNoNucleo30K/latest_net.pth\n",
            "epoch: 67, TEST ACC: [100.0 %]\n",
            "\n",
            "saving the latest model (epoch 68, total_steps 269)\n",
            "(epoch: 68, iters: 2, time: 2.456, data: 0.198) loss: 0.005 \n",
            "saving the model at the end of epoch 68, iters 272\n",
            "End of epoch 68 / 100 \t Time Taken: 10 sec\n",
            "learning rate = 0.0001216\n",
            "Running Test\n",
            "loaded mean / std from cache\n",
            "loading the model from ./checkpoints/nucleoNoNucleo30K/latest_net.pth\n",
            "epoch: 68, TEST ACC: [100.0 %]\n",
            "\n",
            "saving the latest model (epoch 69, total_steps 273)\n",
            "saving the model at the end of epoch 69, iters 276\n",
            "End of epoch 69 / 100 \t Time Taken: 10 sec\n",
            "learning rate = 0.0001176\n",
            "Running Test\n",
            "loaded mean / std from cache\n",
            "loading the model from ./checkpoints/nucleoNoNucleo30K/latest_net.pth\n",
            "epoch: 69, TEST ACC: [100.0 %]\n",
            "\n",
            "saving the latest model (epoch 70, total_steps 277)\n",
            "(epoch: 70, iters: 4, time: 2.563, data: 0.012) loss: 0.004 \n",
            "saving the model at the end of epoch 70, iters 280\n",
            "End of epoch 70 / 100 \t Time Taken: 10 sec\n",
            "learning rate = 0.0001137\n",
            "Running Test\n",
            "loaded mean / std from cache\n",
            "loading the model from ./checkpoints/nucleoNoNucleo30K/latest_net.pth\n",
            "epoch: 70, TEST ACC: [100.0 %]\n",
            "\n",
            "saving the latest model (epoch 71, total_steps 281)\n",
            "saving the model at the end of epoch 71, iters 284\n",
            "End of epoch 71 / 100 \t Time Taken: 10 sec\n",
            "learning rate = 0.0001098\n",
            "Running Test\n",
            "loaded mean / std from cache\n",
            "loading the model from ./checkpoints/nucleoNoNucleo30K/latest_net.pth\n",
            "epoch: 71, TEST ACC: [100.0 %]\n",
            "\n",
            "saving the latest model (epoch 72, total_steps 285)\n",
            "saving the model at the end of epoch 72, iters 288\n",
            "End of epoch 72 / 100 \t Time Taken: 10 sec\n",
            "learning rate = 0.0001059\n",
            "Running Test\n",
            "loaded mean / std from cache\n",
            "loading the model from ./checkpoints/nucleoNoNucleo30K/latest_net.pth\n",
            "epoch: 72, TEST ACC: [100.0 %]\n",
            "\n",
            "saving the latest model (epoch 73, total_steps 289)\n",
            "(epoch: 73, iters: 2, time: 2.439, data: 0.208) loss: 0.005 \n",
            "saving the model at the end of epoch 73, iters 292\n",
            "End of epoch 73 / 100 \t Time Taken: 10 sec\n",
            "learning rate = 0.0001020\n",
            "Running Test\n",
            "loaded mean / std from cache\n",
            "loading the model from ./checkpoints/nucleoNoNucleo30K/latest_net.pth\n",
            "epoch: 73, TEST ACC: [100.0 %]\n",
            "\n",
            "saving the latest model (epoch 74, total_steps 293)\n",
            "saving the model at the end of epoch 74, iters 296\n",
            "End of epoch 74 / 100 \t Time Taken: 11 sec\n",
            "learning rate = 0.0000980\n",
            "Running Test\n",
            "loaded mean / std from cache\n",
            "loading the model from ./checkpoints/nucleoNoNucleo30K/latest_net.pth\n",
            "epoch: 74, TEST ACC: [100.0 %]\n",
            "\n",
            "saving the latest model (epoch 75, total_steps 297)\n",
            "(epoch: 75, iters: 4, time: 2.628, data: 0.011) loss: 0.006 \n",
            "saving the model at the end of epoch 75, iters 300\n",
            "End of epoch 75 / 100 \t Time Taken: 11 sec\n",
            "learning rate = 0.0000941\n",
            "Running Test\n",
            "loaded mean / std from cache\n",
            "loading the model from ./checkpoints/nucleoNoNucleo30K/latest_net.pth\n",
            "epoch: 75, TEST ACC: [100.0 %]\n",
            "\n",
            "saving the latest model (epoch 76, total_steps 301)\n",
            "saving the model at the end of epoch 76, iters 304\n",
            "End of epoch 76 / 100 \t Time Taken: 11 sec\n",
            "learning rate = 0.0000902\n",
            "Running Test\n",
            "loaded mean / std from cache\n",
            "loading the model from ./checkpoints/nucleoNoNucleo30K/latest_net.pth\n",
            "epoch: 76, TEST ACC: [100.0 %]\n",
            "\n",
            "saving the latest model (epoch 77, total_steps 305)\n",
            "saving the model at the end of epoch 77, iters 308\n",
            "End of epoch 77 / 100 \t Time Taken: 11 sec\n",
            "learning rate = 0.0000863\n",
            "Running Test\n",
            "loaded mean / std from cache\n",
            "loading the model from ./checkpoints/nucleoNoNucleo30K/latest_net.pth\n",
            "epoch: 77, TEST ACC: [100.0 %]\n",
            "\n",
            "saving the latest model (epoch 78, total_steps 309)\n",
            "(epoch: 78, iters: 2, time: 2.585, data: 0.213) loss: 0.003 \n",
            "saving the model at the end of epoch 78, iters 312\n",
            "End of epoch 78 / 100 \t Time Taken: 10 sec\n",
            "learning rate = 0.0000824\n",
            "Running Test\n",
            "loaded mean / std from cache\n",
            "loading the model from ./checkpoints/nucleoNoNucleo30K/latest_net.pth\n",
            "epoch: 78, TEST ACC: [100.0 %]\n",
            "\n",
            "saving the latest model (epoch 79, total_steps 313)\n",
            "saving the model at the end of epoch 79, iters 316\n",
            "End of epoch 79 / 100 \t Time Taken: 11 sec\n",
            "learning rate = 0.0000784\n",
            "Running Test\n",
            "loaded mean / std from cache\n",
            "loading the model from ./checkpoints/nucleoNoNucleo30K/latest_net.pth\n",
            "epoch: 79, TEST ACC: [100.0 %]\n",
            "\n",
            "saving the latest model (epoch 80, total_steps 317)\n",
            "(epoch: 80, iters: 4, time: 2.545, data: 0.043) loss: 0.004 \n",
            "saving the model at the end of epoch 80, iters 320\n",
            "End of epoch 80 / 100 \t Time Taken: 10 sec\n",
            "learning rate = 0.0000745\n",
            "Running Test\n",
            "loaded mean / std from cache\n",
            "loading the model from ./checkpoints/nucleoNoNucleo30K/latest_net.pth\n",
            "epoch: 80, TEST ACC: [100.0 %]\n",
            "\n",
            "saving the latest model (epoch 81, total_steps 321)\n",
            "saving the model at the end of epoch 81, iters 324\n",
            "End of epoch 81 / 100 \t Time Taken: 11 sec\n",
            "learning rate = 0.0000706\n",
            "Running Test\n",
            "loaded mean / std from cache\n",
            "loading the model from ./checkpoints/nucleoNoNucleo30K/latest_net.pth\n",
            "epoch: 81, TEST ACC: [100.0 %]\n",
            "\n",
            "saving the latest model (epoch 82, total_steps 325)\n",
            "saving the model at the end of epoch 82, iters 328\n",
            "End of epoch 82 / 100 \t Time Taken: 11 sec\n",
            "learning rate = 0.0000667\n",
            "Running Test\n",
            "loaded mean / std from cache\n",
            "loading the model from ./checkpoints/nucleoNoNucleo30K/latest_net.pth\n",
            "epoch: 82, TEST ACC: [100.0 %]\n",
            "\n",
            "saving the latest model (epoch 83, total_steps 329)\n",
            "(epoch: 83, iters: 2, time: 2.540, data: 0.220) loss: 0.002 \n",
            "saving the model at the end of epoch 83, iters 332\n",
            "End of epoch 83 / 100 \t Time Taken: 11 sec\n",
            "learning rate = 0.0000627\n",
            "Running Test\n",
            "loaded mean / std from cache\n",
            "loading the model from ./checkpoints/nucleoNoNucleo30K/latest_net.pth\n",
            "epoch: 83, TEST ACC: [100.0 %]\n",
            "\n",
            "saving the latest model (epoch 84, total_steps 333)\n",
            "Exception ignored in: <function _MultiProcessingDataLoaderIter.__del__ at 0x7fdceb4eacb0>\n",
            "Traceback (most recent call last):\n",
            "  File \"/usr/local/lib/python3.7/dist-packages/torch/utils/data/dataloader.py\", line 1328, in __del__\n",
            "    self._shutdown_workers()\n",
            "  File \"/usr/local/lib/python3.7/dist-packages/torch/utils/data/dataloader.py\", line 1301, in _shutdown_workers\n",
            "    w.join(timeout=_utils.MP_STATUS_CHECK_INTERVAL)\n",
            "  File \"/usr/lib/python3.7/multiprocessing/process.py\", line 140, in join\n",
            "    res = self._popen.wait(timeout)\n",
            "  File \"/usr/lib/python3.7/multiprocessing/popen_fork.py\", line 45, in wait\n",
            "    if not wait([self.sentinel], timeout):\n",
            "  File \"/usr/lib/python3.7/multiprocessing/connection.py\", line 921, in wait\n",
            "    ready = selector.select(timeout)\n",
            "  File \"/usr/lib/python3.7/selectors.py\", line 415, in select\n",
            "    fd_event_list = self._selector.poll(timeout)\n",
            "KeyboardInterrupt: \n",
            "Traceback (most recent call last):\n",
            "  File \"./networks/MeshCNN/train.py\", line 30, in <module>\n",
            "    model.optimize_parameters()\n",
            "  File \"/content/networks/MeshCNN/models/mesh_classifier.py\", line 66, in optimize_parameters\n",
            "    out = self.forward()\n",
            "  File \"/content/networks/MeshCNN/models/mesh_classifier.py\", line 57, in forward\n",
            "    out = self.net(self.edge_features, self.mesh)\n",
            "  File \"/usr/local/lib/python3.7/dist-packages/torch/nn/modules/module.py\", line 1102, in _call_impl\n",
            "    return forward_call(*input, **kwargs)\n",
            "  File \"/usr/local/lib/python3.7/dist-packages/torch/nn/parallel/data_parallel.py\", line 166, in forward\n",
            "    return self.module(*inputs[0], **kwargs[0])\n",
            "  File \"/usr/local/lib/python3.7/dist-packages/torch/nn/modules/module.py\", line 1102, in _call_impl\n",
            "    return forward_call(*input, **kwargs)\n",
            "  File \"/content/networks/MeshCNN/models/networks.py\", line 150, in forward\n",
            "    x = getattr(self, 'pool{}'.format(i))(x, mesh)\n",
            "  File \"/content/networks/MeshCNN/models/layers/mesh_pool.py\", line 21, in __call__\n",
            "    return self.forward(fe, meshes)\n",
            "  File \"/content/networks/MeshCNN/models/layers/mesh_pool.py\", line 34, in forward\n",
            "    self.__pool_main(mesh_index)\n",
            "  File \"/content/networks/MeshCNN/models/layers/mesh_pool.py\", line 53, in __pool_main\n",
            "    self.__pool_edge(mesh, edge_id, mask, edge_groups)\n",
            "  File \"/content/networks/MeshCNN/models/layers/mesh_pool.py\", line 66, in __pool_edge\n",
            "    mesh.merge_vertices(edge_id)\n",
            "  File \"/content/networks/MeshCNN/models/layers/mesh.py\", line 32, in merge_vertices\n",
            "    v_a.__iadd__(v_b)\n",
            "KeyboardInterrupt\n"
          ]
        }
      ]
    },
    {
      "cell_type": "code",
      "source": [
        "!python ./networks/MeshCNN/test.py \\\n",
        "--dataroot ./data/datasets/nucleoNoNucleo30K \\\n",
        "--name nucleoNoNucleo30K \\\n",
        "--ninput_edges 30000 \\\n",
        "--ncf 32 64 256 256 \\\n",
        "--pool_res 20000 15000 8000 5000 \\\n",
        "--norm group \\\n",
        "--resblocks 1 \\\n",
        "--export_folder ./output/ \\\n",
        "--batch_size 1 \\\n",
        "--num_threads 2 \\"
      ],
      "metadata": {
        "id": "zXrhOw2fLhy7",
        "colab": {
          "base_uri": "https://localhost:8080/"
        },
        "outputId": "0be67a91-8d06-43cb-937c-8270b80cf04e"
      },
      "execution_count": null,
      "outputs": [
        {
          "output_type": "stream",
          "name": "stdout",
          "text": [
            "tensorboard X not installed, visualizing wont be available\n",
            "Running Test\n",
            "loaded mean / std from cache\n",
            "loading the model from ./checkpoints/nucleoNoNucleo30K/latest_net.pth\n",
            "epoch: -1, TEST ACC: [100.0 %]\n",
            "\n"
          ]
        }
      ]
    },
    {
      "cell_type": "markdown",
      "source": [
        "Obtener output"
      ],
      "metadata": {
        "id": "0A_XV4JXRbQu"
      }
    },
    {
      "cell_type": "code",
      "source": [
        "pathOut = \"/content/drive/MyDrive/TFG/output/\" + \"outputNnN.zip\"\n",
        "\n",
        "!zip -r $pathOut ./checkpoints/nucleoNoNucleo30K/output/"
      ],
      "metadata": {
        "id": "E9zZP9TQRaeb",
        "colab": {
          "base_uri": "https://localhost:8080/"
        },
        "outputId": "9492d887-7f04-4e8d-b502-c3d67eb9a66b"
      },
      "execution_count": null,
      "outputs": [
        {
          "output_type": "stream",
          "name": "stdout",
          "text": [
            "  adding: checkpoints/nucleoNoNucleo30K/output/ (stored 0%)\n",
            "  adding: checkpoints/nucleoNoNucleo30K/output/81_cut_4.obj (deflated 61%)\n",
            "  adding: checkpoints/nucleoNoNucleo30K/output/82_cut_1.obj (deflated 62%)\n",
            "  adding: checkpoints/nucleoNoNucleo30K/output/214_cut_1.obj (deflated 62%)\n",
            "  adding: checkpoints/nucleoNoNucleo30K/output/81_cut_2.obj (deflated 63%)\n",
            "  adding: checkpoints/nucleoNoNucleo30K/output/82_cut_4.obj (deflated 60%)\n",
            "  adding: checkpoints/nucleoNoNucleo30K/output/82_cut_3.obj (deflated 61%)\n",
            "  adding: checkpoints/nucleoNoNucleo30K/output/81_cut_0.obj (deflated 63%)\n",
            "  adding: checkpoints/nucleoNoNucleo30K/output/81_cut_1.obj (deflated 63%)\n",
            "  adding: checkpoints/nucleoNoNucleo30K/output/82_cut_0.obj (deflated 62%)\n",
            "  adding: checkpoints/nucleoNoNucleo30K/output/214_cut_0.obj (deflated 62%)\n",
            "  adding: checkpoints/nucleoNoNucleo30K/output/214_cut_3.obj (deflated 61%)\n",
            "  adding: checkpoints/nucleoNoNucleo30K/output/82_cut_2.obj (deflated 62%)\n",
            "  adding: checkpoints/nucleoNoNucleo30K/output/214_cut_4.obj (deflated 59%)\n",
            "  adding: checkpoints/nucleoNoNucleo30K/output/214_cut_2.obj (deflated 62%)\n",
            "  adding: checkpoints/nucleoNoNucleo30K/output/81_cut_3.obj (deflated 62%)\n"
          ]
        }
      ]
    },
    {
      "cell_type": "markdown",
      "source": [
        "# MeshCNNPlus"
      ],
      "metadata": {
        "id": "GO7N8W285I2P"
      }
    },
    {
      "cell_type": "code",
      "source": [
        "# Nombre del dataset\n",
        "dataset = \"shrec_16\""
      ],
      "metadata": {
        "id": "CeXDdmwUlJU5"
      },
      "execution_count": null,
      "outputs": []
    },
    {
      "cell_type": "code",
      "source": [
        "!python ./networks/MeshCNNPlus/development/train.py \\\n",
        "--dataroot ./data/datasets/shrec_16 \\\n",
        "--name shrec16 \\\n",
        "--ncf 64 128 256 256 \\\n",
        "--pool_res 600 450 300 180 \\\n",
        "--norm group \\\n",
        "--resblocks 1 \\\n",
        "--flip_edges 0.2 \\\n",
        "--slide_verts 0.2 \\\n",
        "--num_aug 20 \\\n",
        "--niter 10 \\\n",
        "--niter_decay 10 \\\n",
        "--num_threads 2 \\\n",
        "--max_dataset_size 1 \\"
      ],
      "metadata": {
        "id": "PqlnPrQ3lJU7"
      },
      "execution_count": null,
      "outputs": []
    },
    {
      "cell_type": "code",
      "source": [
        "!python ./networks/MeshCNNPlus/development/test.py \\\n",
        "--dataroot ./data/datasets/shrec_16/ \\\n",
        "--name shrec16 \\\n",
        "--ncf 64 128 256 256 \\\n",
        "--pool_res 600 450 300 180 \\\n",
        "--norm group \\\n",
        "--resblocks 1 \\\n",
        "--export_folder ./output/MeshCNNPlus/meshes_shreck \\\n",
        "--num_threads 2 \\"
      ],
      "metadata": {
        "colab": {
          "base_uri": "https://localhost:8080/"
        },
        "id": "OdzHn51qrvJr",
        "outputId": "60b4aaf9-a1fa-4a7a-8d5d-fa61591e086d"
      },
      "execution_count": null,
      "outputs": [
        {
          "output_type": "stream",
          "name": "stdout",
          "text": [
            "tensorboard X not installed, visualizing wont be available\n",
            "Running Test on rank 0\n",
            "MeshCNN layers: Using sparse pooling\n",
            "loaded mean / std from cache\n",
            "Using distributed classifier model with AdamW optimizer, GPU 0\n",
            "loading the model from ./checkpoints/shrec16/latest_net.pth\n",
            "/usr/local/lib/python3.7/dist-packages/numpy/lib/npyio.py:719: VisibleDeprecationWarning: Creating an ndarray from ragged nested sequences (which is a list-or-tuple of lists-or-tuples-or ndarrays with different lengths or shapes) is deprecated. If you meant to do this, you must specify 'dtype=object' when creating the ndarray.\n",
            "  val = np.asanyarray(val)\n",
            "epoch: -1, TEST ACC: [4.1667 %]\n",
            "\n"
          ]
        }
      ]
    }
  ]
}